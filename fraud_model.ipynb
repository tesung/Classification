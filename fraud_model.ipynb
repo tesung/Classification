{
 "cells": [
  {
   "cell_type": "code",
   "execution_count": 33,
   "id": "9bf0163f-c7dd-4edb-a13e-b8ea03c27b84",
   "metadata": {},
   "outputs": [],
   "source": [
    "import pandas as pd\n",
    "import numpy as np\n",
    "import math \n",
    "from sklearn.linear_model import LogisticRegression\n",
    "from sklearn.model_selection import train_test_split\n",
    "from sklearn.metrics import confusion_matrix, roc_auc_score, roc_curve, precision_score, recall_score,\\\n",
    "precision_recall_curve, f1_score, fbeta_score, accuracy_score, log_loss\n",
    "import imblearn.over_sampling\n",
    "import matplotlib.pyplot as plt\n",
    "import seaborn as sns"
   ]
  },
  {
   "cell_type": "code",
   "execution_count": 2,
   "id": "a71ba902-cf6d-422e-b303-e51386dbffc5",
   "metadata": {},
   "outputs": [],
   "source": [
    "data = pd.read_csv('Fraud.csv')\n",
    "df = data.copy()"
   ]
  },
  {
   "cell_type": "markdown",
   "id": "0da71462-bb98-4a74-af3e-5d02124474e4",
   "metadata": {},
   "source": [
    "### Data Cleaning & Processing"
   ]
  },
  {
   "cell_type": "code",
   "execution_count": 3,
   "id": "4daffa5e-ebfd-40d1-afe6-570cd7efee73",
   "metadata": {},
   "outputs": [
    {
     "name": "stdout",
     "output_type": "stream",
     "text": [
      "<class 'pandas.core.frame.DataFrame'>\n",
      "RangeIndex: 6362620 entries, 0 to 6362619\n",
      "Data columns (total 11 columns):\n",
      " #   Column          Dtype  \n",
      "---  ------          -----  \n",
      " 0   step            int64  \n",
      " 1   type            object \n",
      " 2   amount          float64\n",
      " 3   nameOrig        object \n",
      " 4   oldbalanceOrg   float64\n",
      " 5   newbalanceOrig  float64\n",
      " 6   nameDest        object \n",
      " 7   oldbalanceDest  float64\n",
      " 8   newbalanceDest  float64\n",
      " 9   isFraud         int64  \n",
      " 10  isFlaggedFraud  int64  \n",
      "dtypes: float64(5), int64(3), object(3)\n",
      "memory usage: 534.0+ MB\n"
     ]
    }
   ],
   "source": [
    "df.info()"
   ]
  },
  {
   "cell_type": "code",
   "execution_count": 4,
   "id": "337ef8e8-14d7-4a8e-bbc4-f9d1310ca6df",
   "metadata": {},
   "outputs": [
    {
     "data": {
      "text/plain": [
       "step              0\n",
       "type              0\n",
       "amount            0\n",
       "nameOrig          0\n",
       "oldbalanceOrg     0\n",
       "newbalanceOrig    0\n",
       "nameDest          0\n",
       "oldbalanceDest    0\n",
       "newbalanceDest    0\n",
       "isFraud           0\n",
       "isFlaggedFraud    0\n",
       "dtype: int64"
      ]
     },
     "execution_count": 4,
     "metadata": {},
     "output_type": "execute_result"
    }
   ],
   "source": [
    "na = df.isna().sum()\n",
    "na"
   ]
  },
  {
   "cell_type": "code",
   "execution_count": 5,
   "id": "0d3a0727-796c-459a-a05d-8cbe29e48499",
   "metadata": {},
   "outputs": [],
   "source": [
    "df['step'] = df['step'].apply(lambda x: x/24)"
   ]
  },
  {
   "cell_type": "code",
   "execution_count": 6,
   "id": "b747b7ed-b16c-4657-b3c8-8931e1618675",
   "metadata": {},
   "outputs": [],
   "source": [
    "df['step'] = df['step'].apply(lambda x: math.ceil(x))"
   ]
  },
  {
   "cell_type": "code",
   "execution_count": 7,
   "id": "cdb5c7e1-e5ee-4179-a2cf-bcf940dfb6c5",
   "metadata": {},
   "outputs": [],
   "source": [
    "df = pd.get_dummies(df, columns=['type'])"
   ]
  },
  {
   "cell_type": "code",
   "execution_count": 8,
   "id": "2abe04b1-d8bb-4589-ad0c-76321c42a9b7",
   "metadata": {},
   "outputs": [],
   "source": [
    "df = df.drop(columns=['isFlaggedFraud'])"
   ]
  },
  {
   "cell_type": "code",
   "execution_count": 9,
   "id": "7beb557e-f168-4213-855c-c32da6a721c3",
   "metadata": {},
   "outputs": [
    {
     "data": {
      "text/html": [
       "<div>\n",
       "<style scoped>\n",
       "    .dataframe tbody tr th:only-of-type {\n",
       "        vertical-align: middle;\n",
       "    }\n",
       "\n",
       "    .dataframe tbody tr th {\n",
       "        vertical-align: top;\n",
       "    }\n",
       "\n",
       "    .dataframe thead th {\n",
       "        text-align: right;\n",
       "    }\n",
       "</style>\n",
       "<table border=\"1\" class=\"dataframe\">\n",
       "  <thead>\n",
       "    <tr style=\"text-align: right;\">\n",
       "      <th></th>\n",
       "      <th>step</th>\n",
       "      <th>amount</th>\n",
       "      <th>nameOrig</th>\n",
       "      <th>oldbalanceOrg</th>\n",
       "      <th>newbalanceOrig</th>\n",
       "      <th>nameDest</th>\n",
       "      <th>oldbalanceDest</th>\n",
       "      <th>newbalanceDest</th>\n",
       "      <th>isFraud</th>\n",
       "      <th>type_CASH_IN</th>\n",
       "      <th>type_CASH_OUT</th>\n",
       "      <th>type_DEBIT</th>\n",
       "      <th>type_PAYMENT</th>\n",
       "      <th>type_TRANSFER</th>\n",
       "    </tr>\n",
       "  </thead>\n",
       "  <tbody>\n",
       "    <tr>\n",
       "      <th>0</th>\n",
       "      <td>1</td>\n",
       "      <td>9839.64</td>\n",
       "      <td>C1231006815</td>\n",
       "      <td>170136.00</td>\n",
       "      <td>160296.36</td>\n",
       "      <td>M1979787155</td>\n",
       "      <td>0.00</td>\n",
       "      <td>0.00</td>\n",
       "      <td>0</td>\n",
       "      <td>0</td>\n",
       "      <td>0</td>\n",
       "      <td>0</td>\n",
       "      <td>1</td>\n",
       "      <td>0</td>\n",
       "    </tr>\n",
       "    <tr>\n",
       "      <th>1</th>\n",
       "      <td>1</td>\n",
       "      <td>1864.28</td>\n",
       "      <td>C1666544295</td>\n",
       "      <td>21249.00</td>\n",
       "      <td>19384.72</td>\n",
       "      <td>M2044282225</td>\n",
       "      <td>0.00</td>\n",
       "      <td>0.00</td>\n",
       "      <td>0</td>\n",
       "      <td>0</td>\n",
       "      <td>0</td>\n",
       "      <td>0</td>\n",
       "      <td>1</td>\n",
       "      <td>0</td>\n",
       "    </tr>\n",
       "    <tr>\n",
       "      <th>2</th>\n",
       "      <td>1</td>\n",
       "      <td>181.00</td>\n",
       "      <td>C1305486145</td>\n",
       "      <td>181.00</td>\n",
       "      <td>0.00</td>\n",
       "      <td>C553264065</td>\n",
       "      <td>0.00</td>\n",
       "      <td>0.00</td>\n",
       "      <td>1</td>\n",
       "      <td>0</td>\n",
       "      <td>0</td>\n",
       "      <td>0</td>\n",
       "      <td>0</td>\n",
       "      <td>1</td>\n",
       "    </tr>\n",
       "    <tr>\n",
       "      <th>3</th>\n",
       "      <td>1</td>\n",
       "      <td>181.00</td>\n",
       "      <td>C840083671</td>\n",
       "      <td>181.00</td>\n",
       "      <td>0.00</td>\n",
       "      <td>C38997010</td>\n",
       "      <td>21182.00</td>\n",
       "      <td>0.00</td>\n",
       "      <td>1</td>\n",
       "      <td>0</td>\n",
       "      <td>1</td>\n",
       "      <td>0</td>\n",
       "      <td>0</td>\n",
       "      <td>0</td>\n",
       "    </tr>\n",
       "    <tr>\n",
       "      <th>4</th>\n",
       "      <td>1</td>\n",
       "      <td>11668.14</td>\n",
       "      <td>C2048537720</td>\n",
       "      <td>41554.00</td>\n",
       "      <td>29885.86</td>\n",
       "      <td>M1230701703</td>\n",
       "      <td>0.00</td>\n",
       "      <td>0.00</td>\n",
       "      <td>0</td>\n",
       "      <td>0</td>\n",
       "      <td>0</td>\n",
       "      <td>0</td>\n",
       "      <td>1</td>\n",
       "      <td>0</td>\n",
       "    </tr>\n",
       "    <tr>\n",
       "      <th>...</th>\n",
       "      <td>...</td>\n",
       "      <td>...</td>\n",
       "      <td>...</td>\n",
       "      <td>...</td>\n",
       "      <td>...</td>\n",
       "      <td>...</td>\n",
       "      <td>...</td>\n",
       "      <td>...</td>\n",
       "      <td>...</td>\n",
       "      <td>...</td>\n",
       "      <td>...</td>\n",
       "      <td>...</td>\n",
       "      <td>...</td>\n",
       "      <td>...</td>\n",
       "    </tr>\n",
       "    <tr>\n",
       "      <th>6362615</th>\n",
       "      <td>31</td>\n",
       "      <td>339682.13</td>\n",
       "      <td>C786484425</td>\n",
       "      <td>339682.13</td>\n",
       "      <td>0.00</td>\n",
       "      <td>C776919290</td>\n",
       "      <td>0.00</td>\n",
       "      <td>339682.13</td>\n",
       "      <td>1</td>\n",
       "      <td>0</td>\n",
       "      <td>1</td>\n",
       "      <td>0</td>\n",
       "      <td>0</td>\n",
       "      <td>0</td>\n",
       "    </tr>\n",
       "    <tr>\n",
       "      <th>6362616</th>\n",
       "      <td>31</td>\n",
       "      <td>6311409.28</td>\n",
       "      <td>C1529008245</td>\n",
       "      <td>6311409.28</td>\n",
       "      <td>0.00</td>\n",
       "      <td>C1881841831</td>\n",
       "      <td>0.00</td>\n",
       "      <td>0.00</td>\n",
       "      <td>1</td>\n",
       "      <td>0</td>\n",
       "      <td>0</td>\n",
       "      <td>0</td>\n",
       "      <td>0</td>\n",
       "      <td>1</td>\n",
       "    </tr>\n",
       "    <tr>\n",
       "      <th>6362617</th>\n",
       "      <td>31</td>\n",
       "      <td>6311409.28</td>\n",
       "      <td>C1162922333</td>\n",
       "      <td>6311409.28</td>\n",
       "      <td>0.00</td>\n",
       "      <td>C1365125890</td>\n",
       "      <td>68488.84</td>\n",
       "      <td>6379898.11</td>\n",
       "      <td>1</td>\n",
       "      <td>0</td>\n",
       "      <td>1</td>\n",
       "      <td>0</td>\n",
       "      <td>0</td>\n",
       "      <td>0</td>\n",
       "    </tr>\n",
       "    <tr>\n",
       "      <th>6362618</th>\n",
       "      <td>31</td>\n",
       "      <td>850002.52</td>\n",
       "      <td>C1685995037</td>\n",
       "      <td>850002.52</td>\n",
       "      <td>0.00</td>\n",
       "      <td>C2080388513</td>\n",
       "      <td>0.00</td>\n",
       "      <td>0.00</td>\n",
       "      <td>1</td>\n",
       "      <td>0</td>\n",
       "      <td>0</td>\n",
       "      <td>0</td>\n",
       "      <td>0</td>\n",
       "      <td>1</td>\n",
       "    </tr>\n",
       "    <tr>\n",
       "      <th>6362619</th>\n",
       "      <td>31</td>\n",
       "      <td>850002.52</td>\n",
       "      <td>C1280323807</td>\n",
       "      <td>850002.52</td>\n",
       "      <td>0.00</td>\n",
       "      <td>C873221189</td>\n",
       "      <td>6510099.11</td>\n",
       "      <td>7360101.63</td>\n",
       "      <td>1</td>\n",
       "      <td>0</td>\n",
       "      <td>1</td>\n",
       "      <td>0</td>\n",
       "      <td>0</td>\n",
       "      <td>0</td>\n",
       "    </tr>\n",
       "  </tbody>\n",
       "</table>\n",
       "<p>6362620 rows × 14 columns</p>\n",
       "</div>"
      ],
      "text/plain": [
       "         step      amount     nameOrig  oldbalanceOrg  newbalanceOrig  \\\n",
       "0           1     9839.64  C1231006815      170136.00       160296.36   \n",
       "1           1     1864.28  C1666544295       21249.00        19384.72   \n",
       "2           1      181.00  C1305486145         181.00            0.00   \n",
       "3           1      181.00   C840083671         181.00            0.00   \n",
       "4           1    11668.14  C2048537720       41554.00        29885.86   \n",
       "...       ...         ...          ...            ...             ...   \n",
       "6362615    31   339682.13   C786484425      339682.13            0.00   \n",
       "6362616    31  6311409.28  C1529008245     6311409.28            0.00   \n",
       "6362617    31  6311409.28  C1162922333     6311409.28            0.00   \n",
       "6362618    31   850002.52  C1685995037      850002.52            0.00   \n",
       "6362619    31   850002.52  C1280323807      850002.52            0.00   \n",
       "\n",
       "            nameDest  oldbalanceDest  newbalanceDest  isFraud  type_CASH_IN  \\\n",
       "0        M1979787155            0.00            0.00        0             0   \n",
       "1        M2044282225            0.00            0.00        0             0   \n",
       "2         C553264065            0.00            0.00        1             0   \n",
       "3          C38997010        21182.00            0.00        1             0   \n",
       "4        M1230701703            0.00            0.00        0             0   \n",
       "...              ...             ...             ...      ...           ...   \n",
       "6362615   C776919290            0.00       339682.13        1             0   \n",
       "6362616  C1881841831            0.00            0.00        1             0   \n",
       "6362617  C1365125890        68488.84      6379898.11        1             0   \n",
       "6362618  C2080388513            0.00            0.00        1             0   \n",
       "6362619   C873221189      6510099.11      7360101.63        1             0   \n",
       "\n",
       "         type_CASH_OUT  type_DEBIT  type_PAYMENT  type_TRANSFER  \n",
       "0                    0           0             1              0  \n",
       "1                    0           0             1              0  \n",
       "2                    0           0             0              1  \n",
       "3                    1           0             0              0  \n",
       "4                    0           0             1              0  \n",
       "...                ...         ...           ...            ...  \n",
       "6362615              1           0             0              0  \n",
       "6362616              0           0             0              1  \n",
       "6362617              1           0             0              0  \n",
       "6362618              0           0             0              1  \n",
       "6362619              1           0             0              0  \n",
       "\n",
       "[6362620 rows x 14 columns]"
      ]
     },
     "execution_count": 9,
     "metadata": {},
     "output_type": "execute_result"
    }
   ],
   "source": [
    "df"
   ]
  },
  {
   "cell_type": "code",
   "execution_count": 10,
   "id": "73e85a10-16f6-4314-ac88-cd0700ddcf35",
   "metadata": {},
   "outputs": [
    {
     "data": {
      "text/plain": [
       "0    6354407\n",
       "1       8213\n",
       "Name: isFraud, dtype: int64"
      ]
     },
     "execution_count": 10,
     "metadata": {},
     "output_type": "execute_result"
    }
   ],
   "source": [
    "df.isFraud.value_counts()"
   ]
  },
  {
   "cell_type": "code",
   "execution_count": 11,
   "id": "1370b61f-304c-4fd9-9652-5229bc7338ed",
   "metadata": {},
   "outputs": [],
   "source": [
    "#remove all the nameDest rows that lead with 'M' because based on the data set, there is no \n",
    "#information for merchant transactions\n",
    "name_remov = df['nameDest'].str.contains('M')\n",
    "df_clean = df[~name_remov]"
   ]
  },
  {
   "cell_type": "code",
   "execution_count": 12,
   "id": "71eb92de-3405-4483-86e1-638c639e5001",
   "metadata": {},
   "outputs": [
    {
     "data": {
      "text/plain": [
       "array([False])"
      ]
     },
     "execution_count": 12,
     "metadata": {},
     "output_type": "execute_result"
    }
   ],
   "source": [
    "#No merchants in nameOrig\n",
    "merch_out = df_clean['nameOrig'].str.contains('M')\n",
    "merch_out.unique()"
   ]
  },
  {
   "cell_type": "code",
   "execution_count": 13,
   "id": "9595eb15-ffd7-42c4-ac82-b70cfc8e9178",
   "metadata": {},
   "outputs": [],
   "source": [
    "#move the isFraud column to new index\n",
    "col = df_clean.pop(\"isFraud\")\n",
    "df_clean.insert(0, col.name, col)"
   ]
  },
  {
   "cell_type": "code",
   "execution_count": 14,
   "id": "8b9e0975-cffa-4c85-bcfe-c97a7cf93d4d",
   "metadata": {},
   "outputs": [
    {
     "data": {
      "text/html": [
       "<div>\n",
       "<style scoped>\n",
       "    .dataframe tbody tr th:only-of-type {\n",
       "        vertical-align: middle;\n",
       "    }\n",
       "\n",
       "    .dataframe tbody tr th {\n",
       "        vertical-align: top;\n",
       "    }\n",
       "\n",
       "    .dataframe thead th {\n",
       "        text-align: right;\n",
       "    }\n",
       "</style>\n",
       "<table border=\"1\" class=\"dataframe\">\n",
       "  <thead>\n",
       "    <tr style=\"text-align: right;\">\n",
       "      <th></th>\n",
       "      <th>isFraud</th>\n",
       "      <th>step</th>\n",
       "      <th>amount</th>\n",
       "      <th>nameOrig</th>\n",
       "      <th>oldbalanceOrg</th>\n",
       "      <th>newbalanceOrig</th>\n",
       "      <th>nameDest</th>\n",
       "      <th>oldbalanceDest</th>\n",
       "      <th>newbalanceDest</th>\n",
       "      <th>type_CASH_IN</th>\n",
       "      <th>type_CASH_OUT</th>\n",
       "      <th>type_DEBIT</th>\n",
       "      <th>type_PAYMENT</th>\n",
       "      <th>type_TRANSFER</th>\n",
       "    </tr>\n",
       "  </thead>\n",
       "  <tbody>\n",
       "    <tr>\n",
       "      <th>2</th>\n",
       "      <td>1</td>\n",
       "      <td>1</td>\n",
       "      <td>181.00</td>\n",
       "      <td>C1305486145</td>\n",
       "      <td>181.00</td>\n",
       "      <td>0.00</td>\n",
       "      <td>C553264065</td>\n",
       "      <td>0.00</td>\n",
       "      <td>0.00</td>\n",
       "      <td>0</td>\n",
       "      <td>0</td>\n",
       "      <td>0</td>\n",
       "      <td>0</td>\n",
       "      <td>1</td>\n",
       "    </tr>\n",
       "    <tr>\n",
       "      <th>3</th>\n",
       "      <td>1</td>\n",
       "      <td>1</td>\n",
       "      <td>181.00</td>\n",
       "      <td>C840083671</td>\n",
       "      <td>181.00</td>\n",
       "      <td>0.00</td>\n",
       "      <td>C38997010</td>\n",
       "      <td>21182.00</td>\n",
       "      <td>0.00</td>\n",
       "      <td>0</td>\n",
       "      <td>1</td>\n",
       "      <td>0</td>\n",
       "      <td>0</td>\n",
       "      <td>0</td>\n",
       "    </tr>\n",
       "    <tr>\n",
       "      <th>9</th>\n",
       "      <td>0</td>\n",
       "      <td>1</td>\n",
       "      <td>5337.77</td>\n",
       "      <td>C712410124</td>\n",
       "      <td>41720.00</td>\n",
       "      <td>36382.23</td>\n",
       "      <td>C195600860</td>\n",
       "      <td>41898.00</td>\n",
       "      <td>40348.79</td>\n",
       "      <td>0</td>\n",
       "      <td>0</td>\n",
       "      <td>1</td>\n",
       "      <td>0</td>\n",
       "      <td>0</td>\n",
       "    </tr>\n",
       "    <tr>\n",
       "      <th>10</th>\n",
       "      <td>0</td>\n",
       "      <td>1</td>\n",
       "      <td>9644.94</td>\n",
       "      <td>C1900366749</td>\n",
       "      <td>4465.00</td>\n",
       "      <td>0.00</td>\n",
       "      <td>C997608398</td>\n",
       "      <td>10845.00</td>\n",
       "      <td>157982.12</td>\n",
       "      <td>0</td>\n",
       "      <td>0</td>\n",
       "      <td>1</td>\n",
       "      <td>0</td>\n",
       "      <td>0</td>\n",
       "    </tr>\n",
       "    <tr>\n",
       "      <th>15</th>\n",
       "      <td>0</td>\n",
       "      <td>1</td>\n",
       "      <td>229133.94</td>\n",
       "      <td>C905080434</td>\n",
       "      <td>15325.00</td>\n",
       "      <td>0.00</td>\n",
       "      <td>C476402209</td>\n",
       "      <td>5083.00</td>\n",
       "      <td>51513.44</td>\n",
       "      <td>0</td>\n",
       "      <td>1</td>\n",
       "      <td>0</td>\n",
       "      <td>0</td>\n",
       "      <td>0</td>\n",
       "    </tr>\n",
       "    <tr>\n",
       "      <th>...</th>\n",
       "      <td>...</td>\n",
       "      <td>...</td>\n",
       "      <td>...</td>\n",
       "      <td>...</td>\n",
       "      <td>...</td>\n",
       "      <td>...</td>\n",
       "      <td>...</td>\n",
       "      <td>...</td>\n",
       "      <td>...</td>\n",
       "      <td>...</td>\n",
       "      <td>...</td>\n",
       "      <td>...</td>\n",
       "      <td>...</td>\n",
       "      <td>...</td>\n",
       "    </tr>\n",
       "    <tr>\n",
       "      <th>6362615</th>\n",
       "      <td>1</td>\n",
       "      <td>31</td>\n",
       "      <td>339682.13</td>\n",
       "      <td>C786484425</td>\n",
       "      <td>339682.13</td>\n",
       "      <td>0.00</td>\n",
       "      <td>C776919290</td>\n",
       "      <td>0.00</td>\n",
       "      <td>339682.13</td>\n",
       "      <td>0</td>\n",
       "      <td>1</td>\n",
       "      <td>0</td>\n",
       "      <td>0</td>\n",
       "      <td>0</td>\n",
       "    </tr>\n",
       "    <tr>\n",
       "      <th>6362616</th>\n",
       "      <td>1</td>\n",
       "      <td>31</td>\n",
       "      <td>6311409.28</td>\n",
       "      <td>C1529008245</td>\n",
       "      <td>6311409.28</td>\n",
       "      <td>0.00</td>\n",
       "      <td>C1881841831</td>\n",
       "      <td>0.00</td>\n",
       "      <td>0.00</td>\n",
       "      <td>0</td>\n",
       "      <td>0</td>\n",
       "      <td>0</td>\n",
       "      <td>0</td>\n",
       "      <td>1</td>\n",
       "    </tr>\n",
       "    <tr>\n",
       "      <th>6362617</th>\n",
       "      <td>1</td>\n",
       "      <td>31</td>\n",
       "      <td>6311409.28</td>\n",
       "      <td>C1162922333</td>\n",
       "      <td>6311409.28</td>\n",
       "      <td>0.00</td>\n",
       "      <td>C1365125890</td>\n",
       "      <td>68488.84</td>\n",
       "      <td>6379898.11</td>\n",
       "      <td>0</td>\n",
       "      <td>1</td>\n",
       "      <td>0</td>\n",
       "      <td>0</td>\n",
       "      <td>0</td>\n",
       "    </tr>\n",
       "    <tr>\n",
       "      <th>6362618</th>\n",
       "      <td>1</td>\n",
       "      <td>31</td>\n",
       "      <td>850002.52</td>\n",
       "      <td>C1685995037</td>\n",
       "      <td>850002.52</td>\n",
       "      <td>0.00</td>\n",
       "      <td>C2080388513</td>\n",
       "      <td>0.00</td>\n",
       "      <td>0.00</td>\n",
       "      <td>0</td>\n",
       "      <td>0</td>\n",
       "      <td>0</td>\n",
       "      <td>0</td>\n",
       "      <td>1</td>\n",
       "    </tr>\n",
       "    <tr>\n",
       "      <th>6362619</th>\n",
       "      <td>1</td>\n",
       "      <td>31</td>\n",
       "      <td>850002.52</td>\n",
       "      <td>C1280323807</td>\n",
       "      <td>850002.52</td>\n",
       "      <td>0.00</td>\n",
       "      <td>C873221189</td>\n",
       "      <td>6510099.11</td>\n",
       "      <td>7360101.63</td>\n",
       "      <td>0</td>\n",
       "      <td>1</td>\n",
       "      <td>0</td>\n",
       "      <td>0</td>\n",
       "      <td>0</td>\n",
       "    </tr>\n",
       "  </tbody>\n",
       "</table>\n",
       "<p>4211125 rows × 14 columns</p>\n",
       "</div>"
      ],
      "text/plain": [
       "         isFraud  step      amount     nameOrig  oldbalanceOrg  \\\n",
       "2              1     1      181.00  C1305486145         181.00   \n",
       "3              1     1      181.00   C840083671         181.00   \n",
       "9              0     1     5337.77   C712410124       41720.00   \n",
       "10             0     1     9644.94  C1900366749        4465.00   \n",
       "15             0     1   229133.94   C905080434       15325.00   \n",
       "...          ...   ...         ...          ...            ...   \n",
       "6362615        1    31   339682.13   C786484425      339682.13   \n",
       "6362616        1    31  6311409.28  C1529008245     6311409.28   \n",
       "6362617        1    31  6311409.28  C1162922333     6311409.28   \n",
       "6362618        1    31   850002.52  C1685995037      850002.52   \n",
       "6362619        1    31   850002.52  C1280323807      850002.52   \n",
       "\n",
       "         newbalanceOrig     nameDest  oldbalanceDest  newbalanceDest  \\\n",
       "2                  0.00   C553264065            0.00            0.00   \n",
       "3                  0.00    C38997010        21182.00            0.00   \n",
       "9              36382.23   C195600860        41898.00        40348.79   \n",
       "10                 0.00   C997608398        10845.00       157982.12   \n",
       "15                 0.00   C476402209         5083.00        51513.44   \n",
       "...                 ...          ...             ...             ...   \n",
       "6362615            0.00   C776919290            0.00       339682.13   \n",
       "6362616            0.00  C1881841831            0.00            0.00   \n",
       "6362617            0.00  C1365125890        68488.84      6379898.11   \n",
       "6362618            0.00  C2080388513            0.00            0.00   \n",
       "6362619            0.00   C873221189      6510099.11      7360101.63   \n",
       "\n",
       "         type_CASH_IN  type_CASH_OUT  type_DEBIT  type_PAYMENT  type_TRANSFER  \n",
       "2                   0              0           0             0              1  \n",
       "3                   0              1           0             0              0  \n",
       "9                   0              0           1             0              0  \n",
       "10                  0              0           1             0              0  \n",
       "15                  0              1           0             0              0  \n",
       "...               ...            ...         ...           ...            ...  \n",
       "6362615             0              1           0             0              0  \n",
       "6362616             0              0           0             0              1  \n",
       "6362617             0              1           0             0              0  \n",
       "6362618             0              0           0             0              1  \n",
       "6362619             0              1           0             0              0  \n",
       "\n",
       "[4211125 rows x 14 columns]"
      ]
     },
     "execution_count": 14,
     "metadata": {},
     "output_type": "execute_result"
    }
   ],
   "source": [
    "df_clean"
   ]
  },
  {
   "cell_type": "markdown",
   "id": "13d36c2e-7304-4276-bf0c-659e9a582ad5",
   "metadata": {},
   "source": [
    "### Attempt 1: Remove Customer ID\n",
    "#### Logistic Regression"
   ]
  },
  {
   "cell_type": "code",
   "execution_count": 216,
   "id": "78c03425-e657-48bd-b890-a0eac8f6cb43",
   "metadata": {},
   "outputs": [],
   "source": [
    "#new data frame to start playing around with different features\n",
    "df_no_name = df_clean.copy()"
   ]
  },
  {
   "cell_type": "code",
   "execution_count": 217,
   "id": "286d958e-fdb5-4820-a51a-c1e3fbf37817",
   "metadata": {},
   "outputs": [],
   "source": [
    "#drop object columns & convert all to float\n",
    "df_no_name = df_no_name.drop(columns=['nameOrig','nameDest'])\n",
    "df_no_name = df_no_name.astype('float64')"
   ]
  },
  {
   "cell_type": "code",
   "execution_count": 218,
   "id": "64d1d8fc-ff4b-4238-9607-3202f46312cf",
   "metadata": {},
   "outputs": [
    {
     "data": {
      "text/html": [
       "<style>#sk-container-id-7 {color: black;background-color: white;}#sk-container-id-7 pre{padding: 0;}#sk-container-id-7 div.sk-toggleable {background-color: white;}#sk-container-id-7 label.sk-toggleable__label {cursor: pointer;display: block;width: 100%;margin-bottom: 0;padding: 0.3em;box-sizing: border-box;text-align: center;}#sk-container-id-7 label.sk-toggleable__label-arrow:before {content: \"▸\";float: left;margin-right: 0.25em;color: #696969;}#sk-container-id-7 label.sk-toggleable__label-arrow:hover:before {color: black;}#sk-container-id-7 div.sk-estimator:hover label.sk-toggleable__label-arrow:before {color: black;}#sk-container-id-7 div.sk-toggleable__content {max-height: 0;max-width: 0;overflow: hidden;text-align: left;background-color: #f0f8ff;}#sk-container-id-7 div.sk-toggleable__content pre {margin: 0.2em;color: black;border-radius: 0.25em;background-color: #f0f8ff;}#sk-container-id-7 input.sk-toggleable__control:checked~div.sk-toggleable__content {max-height: 200px;max-width: 100%;overflow: auto;}#sk-container-id-7 input.sk-toggleable__control:checked~label.sk-toggleable__label-arrow:before {content: \"▾\";}#sk-container-id-7 div.sk-estimator input.sk-toggleable__control:checked~label.sk-toggleable__label {background-color: #d4ebff;}#sk-container-id-7 div.sk-label input.sk-toggleable__control:checked~label.sk-toggleable__label {background-color: #d4ebff;}#sk-container-id-7 input.sk-hidden--visually {border: 0;clip: rect(1px 1px 1px 1px);clip: rect(1px, 1px, 1px, 1px);height: 1px;margin: -1px;overflow: hidden;padding: 0;position: absolute;width: 1px;}#sk-container-id-7 div.sk-estimator {font-family: monospace;background-color: #f0f8ff;border: 1px dotted black;border-radius: 0.25em;box-sizing: border-box;margin-bottom: 0.5em;}#sk-container-id-7 div.sk-estimator:hover {background-color: #d4ebff;}#sk-container-id-7 div.sk-parallel-item::after {content: \"\";width: 100%;border-bottom: 1px solid gray;flex-grow: 1;}#sk-container-id-7 div.sk-label:hover label.sk-toggleable__label {background-color: #d4ebff;}#sk-container-id-7 div.sk-serial::before {content: \"\";position: absolute;border-left: 1px solid gray;box-sizing: border-box;top: 0;bottom: 0;left: 50%;z-index: 0;}#sk-container-id-7 div.sk-serial {display: flex;flex-direction: column;align-items: center;background-color: white;padding-right: 0.2em;padding-left: 0.2em;position: relative;}#sk-container-id-7 div.sk-item {position: relative;z-index: 1;}#sk-container-id-7 div.sk-parallel {display: flex;align-items: stretch;justify-content: center;background-color: white;position: relative;}#sk-container-id-7 div.sk-item::before, #sk-container-id-7 div.sk-parallel-item::before {content: \"\";position: absolute;border-left: 1px solid gray;box-sizing: border-box;top: 0;bottom: 0;left: 50%;z-index: -1;}#sk-container-id-7 div.sk-parallel-item {display: flex;flex-direction: column;z-index: 1;position: relative;background-color: white;}#sk-container-id-7 div.sk-parallel-item:first-child::after {align-self: flex-end;width: 50%;}#sk-container-id-7 div.sk-parallel-item:last-child::after {align-self: flex-start;width: 50%;}#sk-container-id-7 div.sk-parallel-item:only-child::after {width: 0;}#sk-container-id-7 div.sk-dashed-wrapped {border: 1px dashed gray;margin: 0 0.4em 0.5em 0.4em;box-sizing: border-box;padding-bottom: 0.4em;background-color: white;}#sk-container-id-7 div.sk-label label {font-family: monospace;font-weight: bold;display: inline-block;line-height: 1.2em;}#sk-container-id-7 div.sk-label-container {text-align: center;}#sk-container-id-7 div.sk-container {/* jupyter's `normalize.less` sets `[hidden] { display: none; }` but bootstrap.min.css set `[hidden] { display: none !important; }` so we also need the `!important` here to be able to override the default hidden behavior on the sphinx rendered scikit-learn.org. See: https://github.com/scikit-learn/scikit-learn/issues/21755 */display: inline-block !important;position: relative;}#sk-container-id-7 div.sk-text-repr-fallback {display: none;}</style><div id=\"sk-container-id-7\" class=\"sk-top-container\"><div class=\"sk-text-repr-fallback\"><pre>LogisticRegression()</pre><b>In a Jupyter environment, please rerun this cell to show the HTML representation or trust the notebook. <br />On GitHub, the HTML representation is unable to render, please try loading this page with nbviewer.org.</b></div><div class=\"sk-container\" hidden><div class=\"sk-item\"><div class=\"sk-estimator sk-toggleable\"><input class=\"sk-toggleable__control sk-hidden--visually\" id=\"sk-estimator-id-7\" type=\"checkbox\" checked><label for=\"sk-estimator-id-7\" class=\"sk-toggleable__label sk-toggleable__label-arrow\">LogisticRegression</label><div class=\"sk-toggleable__content\"><pre>LogisticRegression()</pre></div></div></div></div></div>"
      ],
      "text/plain": [
       "LogisticRegression()"
      ]
     },
     "execution_count": 218,
     "metadata": {},
     "output_type": "execute_result"
    }
   ],
   "source": [
    "X_train, X_test, y_train, y_test = train_test_split(df_no_name.iloc[:,1:], df_no_name.iloc[:,0], random_state=66)\n",
    "log_reg = LogisticRegression()\n",
    "log_reg.fit(X_train, y_train)"
   ]
  },
  {
   "cell_type": "code",
   "execution_count": 219,
   "id": "d7518436-38c0-47ec-94aa-e3e8b958197e",
   "metadata": {},
   "outputs": [
    {
     "data": {
      "text/plain": [
       "0.9980888712847211"
      ]
     },
     "execution_count": 219,
     "metadata": {},
     "output_type": "execute_result"
    }
   ],
   "source": [
    "#High score but probably because a very small amount of the transactions\n",
    "#are actually fraud\n",
    "log_reg.score(X_train,y_train)"
   ]
  },
  {
   "cell_type": "code",
   "execution_count": 221,
   "id": "acb43ec6-3e6d-4061-adcb-2ff1b6942eb0",
   "metadata": {},
   "outputs": [],
   "source": [
    "#run confusion matrix, derived code from lesson\n",
    "def make_confusion_matrix(model, threshold=0.05):\n",
    "    predict = (model.predict_proba(X_test)[:,1] >= threshold)\n",
    "    fraud = confusion_matrix(y_test, predict)\n",
    "    plt.figure(dpi=80)\n",
    "    sns.heatmap(fraud, cmap=plt.cm.Reds, annot=True, square=True, fmt='d',\n",
    "           xticklabels=['legit', 'fraud'],\n",
    "           yticklabels=['legit', 'fraud']);\n",
    "    plt.xlabel('prediction')\n",
    "    plt.ylabel('actual')\n",
    "    print(\"Threshold of: {}\".format(threshold))\n",
    "    print(\"Precision: {:1.3f}, Recall: {:1.3f}\".format(precision_score(y_test, predict), recall_score(y_test, predict)))"
   ]
  },
  {
   "cell_type": "code",
   "execution_count": 222,
   "id": "383b2ec9-80e8-47f8-a8fe-042c6e82ea79",
   "metadata": {},
   "outputs": [
    {
     "name": "stdout",
     "output_type": "stream",
     "text": [
      "Threshold of: 0.05\n",
      "Precision: 0.053, Recall: 0.629\n"
     ]
    },
    {
     "data": {
      "image/png": "[encoded data removed]",
      "text/plain": [
       "<Figure size 480x320 with 2 Axes>"
      ]
     },
     "metadata": {
      "needs_background": "light"
     },
     "output_type": "display_data"
    }
   ],
   "source": [
    "#sacrifice precision for recall\n",
    "make_confusion_matrix(log_reg)"
   ]
  },
  {
   "cell_type": "code",
   "execution_count": 134,
   "id": "2e64667e-3401-4a54-a06c-a6ed6bf74ba9",
   "metadata": {},
   "outputs": [
    {
     "data": {
      "text/plain": [
       "0.4633184328161977"
      ]
     },
     "execution_count": 134,
     "metadata": {},
     "output_type": "execute_result"
    }
   ],
   "source": [
    "#F1 score with standard 0.5 threshold\n",
    "y_predict = log_reg.predict(X_test)\n",
    "f1_score(y_test, y_predict)"
   ]
  },
  {
   "cell_type": "code",
   "execution_count": 135,
   "id": "7cffaf96-cfb8-4897-8b52-e9e1a171d673",
   "metadata": {},
   "outputs": [
    {
     "data": {
      "text/plain": [
       "0.43600910620607736"
      ]
     },
     "execution_count": 135,
     "metadata": {},
     "output_type": "execute_result"
    }
   ],
   "source": [
    "fbeta_score(y_test, y_predict, beta = 2)"
   ]
  },
  {
   "cell_type": "code",
   "execution_count": 136,
   "id": "b7fdabfa-6762-44e9-8478-c158809f9d1b",
   "metadata": {},
   "outputs": [
    {
     "data": {
      "text/plain": [
       "0.5170797052913596"
      ]
     },
     "execution_count": 136,
     "metadata": {},
     "output_type": "execute_result"
    }
   ],
   "source": [
    "#F1 score with threshold that gives highest score\n",
    "y_predict = (log_reg.predict_proba(X_test)[:, 1] > 0.8)\n",
    "f1_score(y_test, y_predict)"
   ]
  },
  {
   "cell_type": "code",
   "execution_count": 137,
   "id": "655848d1-1dd6-4249-bd5a-205dc3206494",
   "metadata": {},
   "outputs": [
    {
     "data": {
      "text/plain": [
       "0.41567951755330607"
      ]
     },
     "execution_count": 137,
     "metadata": {},
     "output_type": "execute_result"
    }
   ],
   "source": [
    "#applies 2 times more importance to recall than precision\n",
    "#but the score drops\n",
    "fbeta_score(y_test, y_predict, beta = 2)"
   ]
  },
  {
   "cell_type": "code",
   "execution_count": 138,
   "id": "5f21050a-5dab-486d-97f4-63035bb8c455",
   "metadata": {},
   "outputs": [
    {
     "name": "stdout",
     "output_type": "stream",
     "text": [
      "ROC AUC score =  0.9487836598831363\n"
     ]
    },
    {
     "data": {
      "image/png": "[encoded data removed]",
      "text/plain": [
       "<Figure size 432x288 with 1 Axes>"
      ]
     },
     "metadata": {
      "needs_background": "light"
     },
     "output_type": "display_data"
    }
   ],
   "source": [
    "false_p, true_p, thresholds = roc_curve(y_test, log_reg.predict_proba(X_test)[:,1])\n",
    "\n",
    "plt.plot(false_p, true_p,lw=2)\n",
    "plt.plot([0,1],[0,1],c='black',ls='--')\n",
    "plt.xlim([-0.05,1.05])\n",
    "plt.ylim([-0.05,1.05])\n",
    "\n",
    "\n",
    "plt.xlabel('False positive rate')\n",
    "plt.ylabel('True positive rate')\n",
    "plt.title('ROC curve for fraud problem');\n",
    "print(\"ROC AUC score = \", roc_auc_score(y_test, log_reg.predict_proba(X_test)[:,1]))"
   ]
  },
  {
   "cell_type": "markdown",
   "id": "17201df5-8b2d-4435-807d-862b5be93a8c",
   "metadata": {},
   "source": [
    "### Attempt 2: Transaction Difference\n",
    "Feature engineering + over sampling"
   ]
  },
  {
   "cell_type": "code",
   "execution_count": 15,
   "id": "53b6a435-a2a7-455f-8e4d-bb4e1ab88b22",
   "metadata": {},
   "outputs": [],
   "source": [
    "df_difference = df_clean.copy()"
   ]
  },
  {
   "cell_type": "code",
   "execution_count": 16,
   "id": "780f5d52-6935-405d-b968-87294c2596c7",
   "metadata": {},
   "outputs": [],
   "source": [
    "#calculate the leftover balance after the transaction amount\n",
    "#both for the sender(original) and receiver(destination)\n",
    "acct_leftover_orig = df_difference['newbalanceOrig'] - df_difference['oldbalanceOrg']\n",
    "\n",
    "df_difference.insert(6, 'acct_leftover_orig', acct_leftover_orig)\n",
    "acct_leftover_dest = df_difference['newbalanceDest'] - df_difference['oldbalanceDest']\n",
    "df_difference.insert(10, 'acct_leftover_dest', acct_leftover_dest)"
   ]
  },
  {
   "cell_type": "code",
   "execution_count": 17,
   "id": "1f91bd36-e245-458c-a822-94389548e15c",
   "metadata": {},
   "outputs": [
    {
     "data": {
      "text/html": [
       "<div>\n",
       "<style scoped>\n",
       "    .dataframe tbody tr th:only-of-type {\n",
       "        vertical-align: middle;\n",
       "    }\n",
       "\n",
       "    .dataframe tbody tr th {\n",
       "        vertical-align: top;\n",
       "    }\n",
       "\n",
       "    .dataframe thead th {\n",
       "        text-align: right;\n",
       "    }\n",
       "</style>\n",
       "<table border=\"1\" class=\"dataframe\">\n",
       "  <thead>\n",
       "    <tr style=\"text-align: right;\">\n",
       "      <th></th>\n",
       "      <th>isFraud</th>\n",
       "      <th>step</th>\n",
       "      <th>amount</th>\n",
       "      <th>nameOrig</th>\n",
       "      <th>oldbalanceOrg</th>\n",
       "      <th>newbalanceOrig</th>\n",
       "      <th>acct_leftover_orig</th>\n",
       "      <th>nameDest</th>\n",
       "      <th>oldbalanceDest</th>\n",
       "      <th>newbalanceDest</th>\n",
       "      <th>acct_leftover_dest</th>\n",
       "      <th>type_CASH_IN</th>\n",
       "      <th>type_CASH_OUT</th>\n",
       "      <th>type_DEBIT</th>\n",
       "      <th>type_PAYMENT</th>\n",
       "      <th>type_TRANSFER</th>\n",
       "    </tr>\n",
       "  </thead>\n",
       "  <tbody>\n",
       "    <tr>\n",
       "      <th>2</th>\n",
       "      <td>1</td>\n",
       "      <td>1</td>\n",
       "      <td>181.00</td>\n",
       "      <td>C1305486145</td>\n",
       "      <td>181.00</td>\n",
       "      <td>0.0</td>\n",
       "      <td>-181.00</td>\n",
       "      <td>C553264065</td>\n",
       "      <td>0.00</td>\n",
       "      <td>0.00</td>\n",
       "      <td>0.00</td>\n",
       "      <td>0</td>\n",
       "      <td>0</td>\n",
       "      <td>0</td>\n",
       "      <td>0</td>\n",
       "      <td>1</td>\n",
       "    </tr>\n",
       "    <tr>\n",
       "      <th>3</th>\n",
       "      <td>1</td>\n",
       "      <td>1</td>\n",
       "      <td>181.00</td>\n",
       "      <td>C840083671</td>\n",
       "      <td>181.00</td>\n",
       "      <td>0.0</td>\n",
       "      <td>-181.00</td>\n",
       "      <td>C38997010</td>\n",
       "      <td>21182.00</td>\n",
       "      <td>0.00</td>\n",
       "      <td>-21182.00</td>\n",
       "      <td>0</td>\n",
       "      <td>1</td>\n",
       "      <td>0</td>\n",
       "      <td>0</td>\n",
       "      <td>0</td>\n",
       "    </tr>\n",
       "    <tr>\n",
       "      <th>251</th>\n",
       "      <td>1</td>\n",
       "      <td>1</td>\n",
       "      <td>2806.00</td>\n",
       "      <td>C1420196421</td>\n",
       "      <td>2806.00</td>\n",
       "      <td>0.0</td>\n",
       "      <td>-2806.00</td>\n",
       "      <td>C972765878</td>\n",
       "      <td>0.00</td>\n",
       "      <td>0.00</td>\n",
       "      <td>0.00</td>\n",
       "      <td>0</td>\n",
       "      <td>0</td>\n",
       "      <td>0</td>\n",
       "      <td>0</td>\n",
       "      <td>1</td>\n",
       "    </tr>\n",
       "    <tr>\n",
       "      <th>252</th>\n",
       "      <td>1</td>\n",
       "      <td>1</td>\n",
       "      <td>2806.00</td>\n",
       "      <td>C2101527076</td>\n",
       "      <td>2806.00</td>\n",
       "      <td>0.0</td>\n",
       "      <td>-2806.00</td>\n",
       "      <td>C1007251739</td>\n",
       "      <td>26202.00</td>\n",
       "      <td>0.00</td>\n",
       "      <td>-26202.00</td>\n",
       "      <td>0</td>\n",
       "      <td>1</td>\n",
       "      <td>0</td>\n",
       "      <td>0</td>\n",
       "      <td>0</td>\n",
       "    </tr>\n",
       "    <tr>\n",
       "      <th>680</th>\n",
       "      <td>1</td>\n",
       "      <td>1</td>\n",
       "      <td>20128.00</td>\n",
       "      <td>C137533655</td>\n",
       "      <td>20128.00</td>\n",
       "      <td>0.0</td>\n",
       "      <td>-20128.00</td>\n",
       "      <td>C1848415041</td>\n",
       "      <td>0.00</td>\n",
       "      <td>0.00</td>\n",
       "      <td>0.00</td>\n",
       "      <td>0</td>\n",
       "      <td>0</td>\n",
       "      <td>0</td>\n",
       "      <td>0</td>\n",
       "      <td>1</td>\n",
       "    </tr>\n",
       "    <tr>\n",
       "      <th>...</th>\n",
       "      <td>...</td>\n",
       "      <td>...</td>\n",
       "      <td>...</td>\n",
       "      <td>...</td>\n",
       "      <td>...</td>\n",
       "      <td>...</td>\n",
       "      <td>...</td>\n",
       "      <td>...</td>\n",
       "      <td>...</td>\n",
       "      <td>...</td>\n",
       "      <td>...</td>\n",
       "      <td>...</td>\n",
       "      <td>...</td>\n",
       "      <td>...</td>\n",
       "      <td>...</td>\n",
       "      <td>...</td>\n",
       "    </tr>\n",
       "    <tr>\n",
       "      <th>6362615</th>\n",
       "      <td>1</td>\n",
       "      <td>31</td>\n",
       "      <td>339682.13</td>\n",
       "      <td>C786484425</td>\n",
       "      <td>339682.13</td>\n",
       "      <td>0.0</td>\n",
       "      <td>-339682.13</td>\n",
       "      <td>C776919290</td>\n",
       "      <td>0.00</td>\n",
       "      <td>339682.13</td>\n",
       "      <td>339682.13</td>\n",
       "      <td>0</td>\n",
       "      <td>1</td>\n",
       "      <td>0</td>\n",
       "      <td>0</td>\n",
       "      <td>0</td>\n",
       "    </tr>\n",
       "    <tr>\n",
       "      <th>6362616</th>\n",
       "      <td>1</td>\n",
       "      <td>31</td>\n",
       "      <td>6311409.28</td>\n",
       "      <td>C1529008245</td>\n",
       "      <td>6311409.28</td>\n",
       "      <td>0.0</td>\n",
       "      <td>-6311409.28</td>\n",
       "      <td>C1881841831</td>\n",
       "      <td>0.00</td>\n",
       "      <td>0.00</td>\n",
       "      <td>0.00</td>\n",
       "      <td>0</td>\n",
       "      <td>0</td>\n",
       "      <td>0</td>\n",
       "      <td>0</td>\n",
       "      <td>1</td>\n",
       "    </tr>\n",
       "    <tr>\n",
       "      <th>6362617</th>\n",
       "      <td>1</td>\n",
       "      <td>31</td>\n",
       "      <td>6311409.28</td>\n",
       "      <td>C1162922333</td>\n",
       "      <td>6311409.28</td>\n",
       "      <td>0.0</td>\n",
       "      <td>-6311409.28</td>\n",
       "      <td>C1365125890</td>\n",
       "      <td>68488.84</td>\n",
       "      <td>6379898.11</td>\n",
       "      <td>6311409.27</td>\n",
       "      <td>0</td>\n",
       "      <td>1</td>\n",
       "      <td>0</td>\n",
       "      <td>0</td>\n",
       "      <td>0</td>\n",
       "    </tr>\n",
       "    <tr>\n",
       "      <th>6362618</th>\n",
       "      <td>1</td>\n",
       "      <td>31</td>\n",
       "      <td>850002.52</td>\n",
       "      <td>C1685995037</td>\n",
       "      <td>850002.52</td>\n",
       "      <td>0.0</td>\n",
       "      <td>-850002.52</td>\n",
       "      <td>C2080388513</td>\n",
       "      <td>0.00</td>\n",
       "      <td>0.00</td>\n",
       "      <td>0.00</td>\n",
       "      <td>0</td>\n",
       "      <td>0</td>\n",
       "      <td>0</td>\n",
       "      <td>0</td>\n",
       "      <td>1</td>\n",
       "    </tr>\n",
       "    <tr>\n",
       "      <th>6362619</th>\n",
       "      <td>1</td>\n",
       "      <td>31</td>\n",
       "      <td>850002.52</td>\n",
       "      <td>C1280323807</td>\n",
       "      <td>850002.52</td>\n",
       "      <td>0.0</td>\n",
       "      <td>-850002.52</td>\n",
       "      <td>C873221189</td>\n",
       "      <td>6510099.11</td>\n",
       "      <td>7360101.63</td>\n",
       "      <td>850002.52</td>\n",
       "      <td>0</td>\n",
       "      <td>1</td>\n",
       "      <td>0</td>\n",
       "      <td>0</td>\n",
       "      <td>0</td>\n",
       "    </tr>\n",
       "  </tbody>\n",
       "</table>\n",
       "<p>8034 rows × 16 columns</p>\n",
       "</div>"
      ],
      "text/plain": [
       "         isFraud  step      amount     nameOrig  oldbalanceOrg  \\\n",
       "2              1     1      181.00  C1305486145         181.00   \n",
       "3              1     1      181.00   C840083671         181.00   \n",
       "251            1     1     2806.00  C1420196421        2806.00   \n",
       "252            1     1     2806.00  C2101527076        2806.00   \n",
       "680            1     1    20128.00   C137533655       20128.00   \n",
       "...          ...   ...         ...          ...            ...   \n",
       "6362615        1    31   339682.13   C786484425      339682.13   \n",
       "6362616        1    31  6311409.28  C1529008245     6311409.28   \n",
       "6362617        1    31  6311409.28  C1162922333     6311409.28   \n",
       "6362618        1    31   850002.52  C1685995037      850002.52   \n",
       "6362619        1    31   850002.52  C1280323807      850002.52   \n",
       "\n",
       "         newbalanceOrig  acct_leftover_orig     nameDest  oldbalanceDest  \\\n",
       "2                   0.0             -181.00   C553264065            0.00   \n",
       "3                   0.0             -181.00    C38997010        21182.00   \n",
       "251                 0.0            -2806.00   C972765878            0.00   \n",
       "252                 0.0            -2806.00  C1007251739        26202.00   \n",
       "680                 0.0           -20128.00  C1848415041            0.00   \n",
       "...                 ...                 ...          ...             ...   \n",
       "6362615             0.0          -339682.13   C776919290            0.00   \n",
       "6362616             0.0         -6311409.28  C1881841831            0.00   \n",
       "6362617             0.0         -6311409.28  C1365125890        68488.84   \n",
       "6362618             0.0          -850002.52  C2080388513            0.00   \n",
       "6362619             0.0          -850002.52   C873221189      6510099.11   \n",
       "\n",
       "         newbalanceDest  acct_leftover_dest  type_CASH_IN  type_CASH_OUT  \\\n",
       "2                  0.00                0.00             0              0   \n",
       "3                  0.00           -21182.00             0              1   \n",
       "251                0.00                0.00             0              0   \n",
       "252                0.00           -26202.00             0              1   \n",
       "680                0.00                0.00             0              0   \n",
       "...                 ...                 ...           ...            ...   \n",
       "6362615       339682.13           339682.13             0              1   \n",
       "6362616            0.00                0.00             0              0   \n",
       "6362617      6379898.11          6311409.27             0              1   \n",
       "6362618            0.00                0.00             0              0   \n",
       "6362619      7360101.63           850002.52             0              1   \n",
       "\n",
       "         type_DEBIT  type_PAYMENT  type_TRANSFER  \n",
       "2                 0             0              1  \n",
       "3                 0             0              0  \n",
       "251               0             0              1  \n",
       "252               0             0              0  \n",
       "680               0             0              1  \n",
       "...             ...           ...            ...  \n",
       "6362615           0             0              0  \n",
       "6362616           0             0              1  \n",
       "6362617           0             0              0  \n",
       "6362618           0             0              1  \n",
       "6362619           0             0              0  \n",
       "\n",
       "[8034 rows x 16 columns]"
      ]
     },
     "execution_count": 17,
     "metadata": {},
     "output_type": "execute_result"
    }
   ],
   "source": [
    "#find the rows where the transaction amount equals the full sender \n",
    "#account balance - figure people don't usually use up all their money\n",
    "#in the account at once\n",
    "df_difference.loc[df_difference['amount'] == df_difference['oldbalanceOrg']]"
   ]
  },
  {
   "cell_type": "code",
   "execution_count": 18,
   "id": "0a33daed-7aa1-44fd-a62f-32e51b8e049d",
   "metadata": {},
   "outputs": [],
   "source": [
    "#drop columns to reduce noise\n",
    "df_difference = df_difference.drop(columns=['step','nameOrig','nameDest','oldbalanceOrg','newbalanceOrig','oldbalanceDest','newbalanceDest'])"
   ]
  },
  {
   "cell_type": "code",
   "execution_count": 19,
   "id": "da7b412c-4839-4f0b-8e8f-d8162773f05e",
   "metadata": {},
   "outputs": [
    {
     "data": {
      "text/html": [
       "<div>\n",
       "<style scoped>\n",
       "    .dataframe tbody tr th:only-of-type {\n",
       "        vertical-align: middle;\n",
       "    }\n",
       "\n",
       "    .dataframe tbody tr th {\n",
       "        vertical-align: top;\n",
       "    }\n",
       "\n",
       "    .dataframe thead th {\n",
       "        text-align: right;\n",
       "    }\n",
       "</style>\n",
       "<table border=\"1\" class=\"dataframe\">\n",
       "  <thead>\n",
       "    <tr style=\"text-align: right;\">\n",
       "      <th></th>\n",
       "      <th>isFraud</th>\n",
       "      <th>amount</th>\n",
       "      <th>acct_leftover_orig</th>\n",
       "      <th>acct_leftover_dest</th>\n",
       "      <th>type_CASH_IN</th>\n",
       "      <th>type_CASH_OUT</th>\n",
       "      <th>type_DEBIT</th>\n",
       "      <th>type_PAYMENT</th>\n",
       "      <th>type_TRANSFER</th>\n",
       "    </tr>\n",
       "  </thead>\n",
       "  <tbody>\n",
       "    <tr>\n",
       "      <th>2</th>\n",
       "      <td>1</td>\n",
       "      <td>181.00</td>\n",
       "      <td>-181.00</td>\n",
       "      <td>0.00</td>\n",
       "      <td>0</td>\n",
       "      <td>0</td>\n",
       "      <td>0</td>\n",
       "      <td>0</td>\n",
       "      <td>1</td>\n",
       "    </tr>\n",
       "    <tr>\n",
       "      <th>3</th>\n",
       "      <td>1</td>\n",
       "      <td>181.00</td>\n",
       "      <td>-181.00</td>\n",
       "      <td>-21182.00</td>\n",
       "      <td>0</td>\n",
       "      <td>1</td>\n",
       "      <td>0</td>\n",
       "      <td>0</td>\n",
       "      <td>0</td>\n",
       "    </tr>\n",
       "    <tr>\n",
       "      <th>9</th>\n",
       "      <td>0</td>\n",
       "      <td>5337.77</td>\n",
       "      <td>-5337.77</td>\n",
       "      <td>-1549.21</td>\n",
       "      <td>0</td>\n",
       "      <td>0</td>\n",
       "      <td>1</td>\n",
       "      <td>0</td>\n",
       "      <td>0</td>\n",
       "    </tr>\n",
       "    <tr>\n",
       "      <th>10</th>\n",
       "      <td>0</td>\n",
       "      <td>9644.94</td>\n",
       "      <td>-4465.00</td>\n",
       "      <td>147137.12</td>\n",
       "      <td>0</td>\n",
       "      <td>0</td>\n",
       "      <td>1</td>\n",
       "      <td>0</td>\n",
       "      <td>0</td>\n",
       "    </tr>\n",
       "    <tr>\n",
       "      <th>15</th>\n",
       "      <td>0</td>\n",
       "      <td>229133.94</td>\n",
       "      <td>-15325.00</td>\n",
       "      <td>46430.44</td>\n",
       "      <td>0</td>\n",
       "      <td>1</td>\n",
       "      <td>0</td>\n",
       "      <td>0</td>\n",
       "      <td>0</td>\n",
       "    </tr>\n",
       "    <tr>\n",
       "      <th>...</th>\n",
       "      <td>...</td>\n",
       "      <td>...</td>\n",
       "      <td>...</td>\n",
       "      <td>...</td>\n",
       "      <td>...</td>\n",
       "      <td>...</td>\n",
       "      <td>...</td>\n",
       "      <td>...</td>\n",
       "      <td>...</td>\n",
       "    </tr>\n",
       "    <tr>\n",
       "      <th>6362615</th>\n",
       "      <td>1</td>\n",
       "      <td>339682.13</td>\n",
       "      <td>-339682.13</td>\n",
       "      <td>339682.13</td>\n",
       "      <td>0</td>\n",
       "      <td>1</td>\n",
       "      <td>0</td>\n",
       "      <td>0</td>\n",
       "      <td>0</td>\n",
       "    </tr>\n",
       "    <tr>\n",
       "      <th>6362616</th>\n",
       "      <td>1</td>\n",
       "      <td>6311409.28</td>\n",
       "      <td>-6311409.28</td>\n",
       "      <td>0.00</td>\n",
       "      <td>0</td>\n",
       "      <td>0</td>\n",
       "      <td>0</td>\n",
       "      <td>0</td>\n",
       "      <td>1</td>\n",
       "    </tr>\n",
       "    <tr>\n",
       "      <th>6362617</th>\n",
       "      <td>1</td>\n",
       "      <td>6311409.28</td>\n",
       "      <td>-6311409.28</td>\n",
       "      <td>6311409.27</td>\n",
       "      <td>0</td>\n",
       "      <td>1</td>\n",
       "      <td>0</td>\n",
       "      <td>0</td>\n",
       "      <td>0</td>\n",
       "    </tr>\n",
       "    <tr>\n",
       "      <th>6362618</th>\n",
       "      <td>1</td>\n",
       "      <td>850002.52</td>\n",
       "      <td>-850002.52</td>\n",
       "      <td>0.00</td>\n",
       "      <td>0</td>\n",
       "      <td>0</td>\n",
       "      <td>0</td>\n",
       "      <td>0</td>\n",
       "      <td>1</td>\n",
       "    </tr>\n",
       "    <tr>\n",
       "      <th>6362619</th>\n",
       "      <td>1</td>\n",
       "      <td>850002.52</td>\n",
       "      <td>-850002.52</td>\n",
       "      <td>850002.52</td>\n",
       "      <td>0</td>\n",
       "      <td>1</td>\n",
       "      <td>0</td>\n",
       "      <td>0</td>\n",
       "      <td>0</td>\n",
       "    </tr>\n",
       "  </tbody>\n",
       "</table>\n",
       "<p>4211125 rows × 9 columns</p>\n",
       "</div>"
      ],
      "text/plain": [
       "         isFraud      amount  acct_leftover_orig  acct_leftover_dest  \\\n",
       "2              1      181.00             -181.00                0.00   \n",
       "3              1      181.00             -181.00           -21182.00   \n",
       "9              0     5337.77            -5337.77            -1549.21   \n",
       "10             0     9644.94            -4465.00           147137.12   \n",
       "15             0   229133.94           -15325.00            46430.44   \n",
       "...          ...         ...                 ...                 ...   \n",
       "6362615        1   339682.13          -339682.13           339682.13   \n",
       "6362616        1  6311409.28         -6311409.28                0.00   \n",
       "6362617        1  6311409.28         -6311409.28          6311409.27   \n",
       "6362618        1   850002.52          -850002.52                0.00   \n",
       "6362619        1   850002.52          -850002.52           850002.52   \n",
       "\n",
       "         type_CASH_IN  type_CASH_OUT  type_DEBIT  type_PAYMENT  type_TRANSFER  \n",
       "2                   0              0           0             0              1  \n",
       "3                   0              1           0             0              0  \n",
       "9                   0              0           1             0              0  \n",
       "10                  0              0           1             0              0  \n",
       "15                  0              1           0             0              0  \n",
       "...               ...            ...         ...           ...            ...  \n",
       "6362615             0              1           0             0              0  \n",
       "6362616             0              0           0             0              1  \n",
       "6362617             0              1           0             0              0  \n",
       "6362618             0              0           0             0              1  \n",
       "6362619             0              1           0             0              0  \n",
       "\n",
       "[4211125 rows x 9 columns]"
      ]
     },
     "execution_count": 19,
     "metadata": {},
     "output_type": "execute_result"
    }
   ],
   "source": [
    "df_difference"
   ]
  },
  {
   "cell_type": "code",
   "execution_count": 20,
   "id": "83eb5e21-1eac-43ab-adf4-53ab29825d99",
   "metadata": {},
   "outputs": [],
   "source": [
    "#create train test split with random sampling using the amount column as the row identifier\n",
    "#create train test split using isFraud as the feature\n",
    "np.random.seed(33)\n",
    "total_amount = df_difference['amount']\n",
    "test_amount = np.random.choice(total_amount, size=int(total_amount.shape[0] * .30))\n",
    "\n",
    "df_X_tr, df_X_te = df_difference[~df_difference['amount'].isin(test_amount)], df_difference[df_difference['amount'].isin(test_amount)]\n",
    "\n",
    "y_tr, y_te = df_X_tr['isFraud'], df_X_te['isFraud']\n",
    "X_tr, X_te = df_X_tr.drop(['isFraud'],axis=1), \\\n",
    "             df_X_te.drop(['isFraud'],axis=1)"
   ]
  },
  {
   "cell_type": "code",
   "execution_count": 23,
   "id": "3dc81236-a410-4d3e-b24b-2d9f644a91cf",
   "metadata": {},
   "outputs": [
    {
     "name": "stdout",
     "output_type": "stream",
     "text": [
      "Simple Logistic Regression; Test F1: 0.485, Test AUC: 0.987\n",
      "Logistic Regression on Oversampled Train Data; Test F1: 0.438, Test AUC: 0.955\n",
      "fbeta score on Oversampled Train Data; Test F1: 0.491, Test AUC: 0.955\n"
     ]
    }
   ],
   "source": [
    "# setup for the ratio of over sampling\n",
    "n_pos = np.sum(y_tr == 1)\n",
    "n_neg = np.sum(y_tr == 0)\n",
    "ratio = {1 : n_pos * 4, 0 : n_neg} \n",
    "\n",
    "# randomly oversample positive samples: create 4x as many \n",
    "ROS = imblearn.over_sampling.RandomOverSampler(sampling_strategy = ratio, random_state=88) \n",
    "    \n",
    "X_tr_rs, y_tr_rs = ROS.fit_resample(X_tr, y_tr)\n",
    "\n",
    "log_reg = LogisticRegression(solver='liblinear') \n",
    "log_reg.fit(X_tr, y_tr)\n",
    "\n",
    "print('Simple Logistic Regression; Test F1: %.3f, Test AUC: %.3f' % \\\n",
    "      (f1_score(y_te, log_reg.predict(X_te)), roc_auc_score(y_te, log_reg.predict_proba(X_te)[:,1]))) \n",
    "\n",
    "logreg_os = LogisticRegression(solver='liblinear') \n",
    "logreg_os.fit(X_tr_rs, y_tr_rs)\n",
    "\n",
    "print('Logistic Regression on Oversampled Train Data; Test F1: %.3f, Test AUC: %.3f' % \\\n",
    "      (f1_score(y_te, logreg_os.predict(X_te)), roc_auc_score(y_te, logreg_os.predict_proba(X_te)[:,1])))\n",
    "\n",
    "print('fbeta score on Oversampled Train Data; Test Fbeta: %.3f, Test AUC: %.3f' % \\\n",
    "      (fbeta_score(y_te, logreg_os.predict(X_te), beta=4), roc_auc_score(y_te, logreg_os.predict_proba(X_te)[:,1])))"
   ]
  },
  {
   "cell_type": "markdown",
   "id": "f8a0bb3d-ae30-4f4a-84a4-0a38599a822d",
   "metadata": {},
   "source": [
    "### Attempt 3: Dropped Dummy Variables\n",
    "\n",
    "Feature engineering + over sampling + class weight balance"
   ]
  },
  {
   "cell_type": "code",
   "execution_count": 24,
   "id": "303df2e8-e240-41f1-a057-9710385ef6cd",
   "metadata": {},
   "outputs": [],
   "source": [
    "df_userID = df_clean.copy()"
   ]
  },
  {
   "cell_type": "code",
   "execution_count": 25,
   "id": "02815088-7c56-429a-b98a-7ddd149d6dd5",
   "metadata": {},
   "outputs": [],
   "source": [
    "df_userID = df_userID.drop(columns=['step','type_CASH_IN','type_DEBIT','type_PAYMENT'])"
   ]
  },
  {
   "cell_type": "code",
   "execution_count": 26,
   "id": "15425c5d-50ed-4a7a-bd5a-5e659550945c",
   "metadata": {},
   "outputs": [],
   "source": [
    "df_userID['nameOrig'] = df_userID['nameOrig'].str.replace('C','')\n",
    "df_userID['nameDest'] = df_userID['nameDest'].str.replace('C','')"
   ]
  },
  {
   "cell_type": "code",
   "execution_count": 167,
   "id": "c3d23ec5-a27f-4997-8f13-2a0f75661115",
   "metadata": {},
   "outputs": [],
   "source": [
    "#run over sampling with new set of features\n",
    "#aim to categorize by userID by random sampling\n",
    "np.random.seed(6)\n",
    "total_users = df_userID['nameOrig'].unique() \n",
    "test_users = np.random.choice(total_users, size=int(total_users.shape[0] * .30))\n",
    "\n",
    "df_X_tr, df_X_te = df_userID[~df_userID['nameOrig'].isin(test_users)], df_userID[df_userID['nameOrig'].isin(test_users)]\n",
    "\n",
    "y_tr, y_te = df_X_tr['isFraud'], df_X_te['isFraud']\n",
    "X_tr, X_te = df_X_tr.drop(['isFraud'],axis=1), \\\n",
    "             df_X_te.drop(['isFraud'],axis=1)\n"
   ]
  },
  {
   "cell_type": "code",
   "execution_count": 168,
   "id": "8a4fed8d-d9c3-40d4-affd-b9791c130854",
   "metadata": {},
   "outputs": [
    {
     "name": "stdout",
     "output_type": "stream",
     "text": [
      "Simple Logistic Regression; Test F1: 0.559, Recall: 0.440, Test AUC: 0.953\n",
      "Logistic Regression on Oversampled Train Data; Test F1: 0.536, Recall: 0.518, Test AUC: 0.960\n",
      "Logistic Regression on Oversampled Train Data; Test Fbeta: 0.520\n"
     ]
    }
   ],
   "source": [
    "# setup for the ratio of over sampling\n",
    "n_pos = np.sum(y_tr == 1)\n",
    "n_neg = np.sum(y_tr == 0)\n",
    "ratio = {1 : n_pos * 4, 0 : n_neg} \n",
    "\n",
    "# randomly oversample positive samples: create 4x as many \n",
    "ROS = imblearn.over_sampling.RandomOverSampler(sampling_strategy = ratio, random_state=20) \n",
    "    \n",
    "X_tr_rs, y_tr_rs = ROS.fit_resample(X_tr, y_tr)\n",
    "\n",
    "log_reg = LogisticRegression(solver='liblinear') \n",
    "log_reg.fit(X_tr, y_tr)\n",
    "\n",
    "print('Simple Logistic Regression; Test F1: %.3f, Recall: %.3f, Test AUC: %.3f' % \\\n",
    "      (f1_score(y_te, log_reg.predict(X_te)), recall_score(y_te, log_reg.predict(X_te)),roc_auc_score(y_te, log_reg.predict_proba(X_te)[:,1]))) \n",
    "\n",
    "logreg_os = LogisticRegression(solver='liblinear') \n",
    "logreg_os.fit(X_tr_rs, y_tr_rs)\n",
    "\n",
    "print('Logistic Regression on Oversampled Train Data; Test F1: %.3f, Recall: %.3f, Test AUC: %.3f' % \\\n",
    "      (f1_score(y_te, logreg_os.predict(X_te)), recall_score(y_te, logreg_os.predict(X_te)),roc_auc_score(y_te, logreg_os.predict_proba(X_te)[:,1])))\n",
    "\n",
    "print('Logistic Regression on Oversampled Train Data; Test Fbeta: %.3f' % \\\n",
    "      (fbeta_score(y_te, logreg_os.predict(X_te), beta = 4)))"
   ]
  },
  {
   "cell_type": "code",
   "execution_count": 203,
   "id": "fa6fa0bf-ef7f-497f-b2de-ae233f49346b",
   "metadata": {},
   "outputs": [
    {
     "name": "stdout",
     "output_type": "stream",
     "text": [
      "Balanced class weights Logistic Regression Test F1: 0.055, Recall: 0.903, Test AUC: 0.978\n",
      "4:1 class weights Logistic Regression Test F1: 0.240, Recall: 0.718, Test AUC: 0.977\n",
      "4:1 class weights fbeta Test Fbeta: 0.582\n"
     ]
    }
   ],
   "source": [
    "#try with manipulating class weights\n",
    "logrg_balanced = LogisticRegression(class_weight='balanced', solver='liblinear')\n",
    "logrg_4x = LogisticRegression(class_weight={1 : 50, 0 : 1}, solver='liblinear')\n",
    "\n",
    "logrg_balanced.fit(X_tr, y_tr)\n",
    "print('Balanced class weights Logistic Regression Test F1: %.3f, Recall: %.3f, Test AUC: %.3f' % \\\n",
    "      (f1_score(y_te, logrg_balanced.predict(X_te)), recall_score(y_te, logrg_balanced.predict(X_te)), roc_auc_score(y_te, logrg_balanced.predict_proba(X_te)[:,1])))\n",
    "\n",
    "logrg_4x.fit(X_tr, y_tr)\n",
    "print('4:1 class weights Logistic Regression Test F1: %.3f, Recall: %.3f, Test AUC: %.3f' % \\\n",
    "      (f1_score(y_te, logrg_4x.predict(X_te)),recall_score(y_te, logrg_4x.predict(X_te)), roc_auc_score(y_te, logrg_4x.predict_proba(X_te)[:,1])))\n",
    "\n",
    "#decided to not use fbeta as that score drops as I increase the emphasis on recall\n",
    "print('4:1 class weights fbeta Test Fbeta: %.3f' % \\\n",
    "      (fbeta_score(y_te, logrg_4x.predict(X_te), beta = 4)))"
   ]
  },
  {
   "cell_type": "code",
   "execution_count": 204,
   "id": "d39247a4-cda4-483f-a9ef-c6f3a551ed3d",
   "metadata": {},
   "outputs": [
    {
     "name": "stdout",
     "output_type": "stream",
     "text": [
      "Log-loss score logistic regression: 0.0090\n",
      "Log-loss score over sampling: 0.0123\n",
      "Log-loss score class weight balance: 0.0477\n"
     ]
    }
   ],
   "source": [
    "#how confident is each model?\n",
    "#Lower the log-loss score, the better the predictions\n",
    "print(\"Log-loss score logistic regression: {:6.4f}\".format(log_loss(y_te, log_reg.predict_proba(X_te))))\n",
    "print(\"Log-loss score over sampling: {:6.4f}\".format(log_loss(y_te, logreg_os.predict_proba(X_te))))\n",
    "print(\"Log-loss score class weight balance: {:6.4f}\".format(log_loss(y_te, logrg_4x.predict_proba(X_te))))"
   ]
  },
  {
   "cell_type": "code",
   "execution_count": 213,
   "id": "7fdd153b-61ac-4270-80d2-3ea7d12f5eb0",
   "metadata": {},
   "outputs": [
    {
     "data": {
      "image/png": "[encoded data removed]",
      "text/plain": [
       "<Figure size 600x400 with 1 Axes>"
      ]
     },
     "metadata": {
      "needs_background": "light"
     },
     "output_type": "display_data"
    }
   ],
   "source": [
    "#use 4:1 class weight regression as that has the best recall score and decent F1 score\n",
    "\n",
    "precision_curve, recall_curve, threshold_curve = precision_recall_curve(y_te, logrg_4x.predict_proba(X_te)[:,1] )\n",
    "\n",
    "plt.figure(dpi=100)\n",
    "plt.plot(threshold_curve, precision_curve[1:],label='precision')\n",
    "plt.plot(threshold_curve, recall_curve[1:], label='recall')\n",
    "plt.legend(loc='lower left')\n",
    "plt.xlabel('Threshold (above this probability, label as fraud)');\n",
    "plt.title('Precision and Recall Curves');"
   ]
  },
  {
   "cell_type": "code",
   "execution_count": 227,
   "id": "a2eee60d-823d-4c4b-a0b7-fc150d8805c1",
   "metadata": {},
   "outputs": [],
   "source": [
    "def fraud_confusion_matrix(model, threshold=0.5):\n",
    "    predict = (model.predict_proba(X_te)[:,1] >= threshold)\n",
    "    fraud = confusion_matrix(y_te, predict)\n",
    "    plt.figure(dpi=100)\n",
    "    sns.heatmap(fraud, cmap=plt.cm.Reds, annot=True, square=True, fmt='d',\n",
    "           xticklabels=['legit', 'fraud'],\n",
    "           yticklabels=['legit', 'fraud']);\n",
    "    plt.xlabel('prediction')\n",
    "    plt.ylabel('actual')\n",
    "    print(\"Threshold of: {}\".format(threshold))\n",
    "    print(\"Precision: {:1.3f}, Recall: {:1.3f}\".format(precision_score(y_te, predict), recall_score(y_te, predict)))"
   ]
  },
  {
   "cell_type": "code",
   "execution_count": 228,
   "id": "7badb3dd-13e7-44bf-9012-33596142f690",
   "metadata": {},
   "outputs": [
    {
     "name": "stdout",
     "output_type": "stream",
     "text": [
      "Threshold of: 0.5\n",
      "Precision: 0.144, Recall: 0.718\n"
     ]
    },
    {
     "data": {
      "image/png": "[encoded data removed]",
      "text/plain": [
       "<Figure size 600x400 with 2 Axes>"
      ]
     },
     "metadata": {
      "needs_background": "light"
     },
     "output_type": "display_data"
    }
   ],
   "source": [
    "fraud_confusion_matrix(logrg_4x)"
   ]
  },
  {
   "cell_type": "markdown",
   "id": "1dc91749-61de-4174-af1e-606135a3e500",
   "metadata": {},
   "source": [
    "### Attempt 4: Dropped Transaction Destination \n",
    "\n",
    "feature engineering + oversampling + class weight balance"
   ]
  },
  {
   "cell_type": "code",
   "execution_count": 115,
   "id": "29fc254b-c1e7-41db-be9b-847363e411b8",
   "metadata": {},
   "outputs": [],
   "source": [
    "df_sender = df_clean.copy()"
   ]
  },
  {
   "cell_type": "code",
   "execution_count": 116,
   "id": "ed2211cd-4d03-4b72-a76d-ce55210d547b",
   "metadata": {},
   "outputs": [],
   "source": [
    "df_sender = df_sender.drop(columns=['step','nameDest','oldbalanceDest','newbalanceDest'])"
   ]
  },
  {
   "cell_type": "code",
   "execution_count": 117,
   "id": "eaf174f5-33ac-4ae8-9748-bc95938b3d6c",
   "metadata": {},
   "outputs": [],
   "source": [
    "df_sender['nameOrig'] = df_sender['nameOrig'].str.replace('C','')"
   ]
  },
  {
   "cell_type": "code",
   "execution_count": 118,
   "id": "f400cbe9-2e69-4039-92ef-dc9da3e9f524",
   "metadata": {},
   "outputs": [],
   "source": [
    "total_users = df_sender['nameOrig'].unique() \n",
    "test_users = np.random.choice(total_users, size=int(total_users.shape[0] * .30))\n",
    "\n",
    "df_X_tr, df_X_te = df_sender[~df_sender['nameOrig'].isin(test_users)], df_sender[df_sender['nameOrig'].isin(test_users)]\n",
    "\n",
    "y_tr, y_te = df_X_tr['isFraud'], df_X_te['isFraud']\n",
    "X_tr, X_te = df_X_tr.drop(['isFraud'],axis=1), \\\n",
    "             df_X_te.drop(['isFraud'],axis=1)"
   ]
  },
  {
   "cell_type": "code",
   "execution_count": 119,
   "id": "5d81d88f-ed97-4581-a710-744508bbac2c",
   "metadata": {},
   "outputs": [
    {
     "name": "stdout",
     "output_type": "stream",
     "text": [
      "Simple Logistic Regression; Test F1: 0.360, Test AUC: 0.923\n",
      "Logistic Regression on Oversampled Train Data; Test F1: 0.309, Test AUC: 0.935\n"
     ]
    }
   ],
   "source": [
    "# setup for the ratio of over sampling\n",
    "n_pos = np.sum(y_tr == 1)\n",
    "n_neg = np.sum(y_tr == 0)\n",
    "ratio = {1 : n_pos * 4, 0 : n_neg} \n",
    "\n",
    "# randomly oversample positive samples: create 4x as many \n",
    "ROS = imblearn.over_sampling.RandomOverSampler(sampling_strategy = ratio, random_state=42) \n",
    "    \n",
    "X_tr_rs, y_tr_rs = ROS.fit_resample(X_tr, y_tr)\n",
    "\n",
    "log_reg = LogisticRegression(solver='liblinear') \n",
    "log_reg.fit(X_tr, y_tr)\n",
    "\n",
    "print('Simple Logistic Regression; Test F1: %.3f, Test AUC: %.3f' % \\\n",
    "      (f1_score(y_te, log_reg.predict(X_te)), roc_auc_score(y_te, log_reg.predict_proba(X_te)[:,1]))) \n",
    "\n",
    "logreg_os = LogisticRegression(solver='liblinear') \n",
    "logreg_os.fit(X_tr_rs, y_tr_rs)\n",
    "\n",
    "print('Logistic Regression on Oversampled Train Data; Test F1: %.3f, Test AUC: %.3f' % \\\n",
    "      (f1_score(y_te, logreg_os.predict(X_te)), roc_auc_score(y_te, logreg_os.predict_proba(X_te)[:,1])))"
   ]
  },
  {
   "cell_type": "code",
   "execution_count": 120,
   "id": "253208f0-8c10-41da-b0f9-6223925b7f65",
   "metadata": {},
   "outputs": [
    {
     "name": "stdout",
     "output_type": "stream",
     "text": [
      "Balanced class weights Logistic Regression Test F1: 0.046, Test AUC: 0.976\n",
      "4:1 class weights Logistic Regression Test F1: 0.313, Test AUC: 0.949\n"
     ]
    }
   ],
   "source": [
    "#try with manipulating class weights\n",
    "logrg_balanced = LogisticRegression(class_weight='balanced', solver='liblinear')\n",
    "logrg_4x = LogisticRegression(class_weight={1 : 4, 0 : 1}, solver='liblinear')\n",
    "\n",
    "logrg_balanced.fit(X_tr, y_tr)\n",
    "print('Balanced class weights Logistic Regression Test F1: %.3f, Test AUC: %.3f' % \\\n",
    "      (f1_score(y_te, logrg_balanced.predict(X_te)), roc_auc_score(y_te, logrg_balanced.predict_proba(X_te)[:,1])))\n",
    "\n",
    "logrg_4x.fit(X_tr, y_tr)\n",
    "print('4:1 class weights Logistic Regression Test F1: %.3f, Test AUC: %.3f' % \\\n",
    "      (f1_score(y_te, logrg_4x.predict(X_te)), roc_auc_score(y_te, logrg_4x.predict_proba(X_te)[:,1])))"
   ]
  },
  {
   "cell_type": "code",
   "execution_count": null,
   "id": "22b62257-082d-49a4-b28f-e4dfe32a7e3a",
   "metadata": {},
   "outputs": [],
   "source": []
  }
 ],
 "metadata": {
  "kernelspec": {
   "display_name": "Python 3 (ipykernel)",
   "language": "python",
   "name": "python3"
  },
  "language_info": {
   "codemirror_mode": {
    "name": "ipython",
    "version": 3
   },
   "file_extension": ".py",
   "mimetype": "text/x-python",
   "name": "python",
   "nbconvert_exporter": "python",
   "pygments_lexer": "ipython3",
   "version": "3.9.7"
  }
 },
 "nbformat": 4,
 "nbformat_minor": 5
}
